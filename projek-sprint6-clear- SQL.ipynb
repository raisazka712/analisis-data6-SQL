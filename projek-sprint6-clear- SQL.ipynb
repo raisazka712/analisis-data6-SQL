{
  "metadata": {
    "kernelspec": {
      "name": "python",
      "display_name": "Python (Pyodide)",
      "language": "python"
    },
    "language_info": {
      "codemirror_mode": {
        "name": "python",
        "version": 3
      },
      "file_extension": ".py",
      "mimetype": "text/x-python",
      "name": "python",
      "nbconvert_exporter": "python",
      "pygments_lexer": "ipython3",
      "version": "3.8"
    },
    "toc": {
      "base_numbering": 1,
      "nav_menu": {},
      "number_sections": true,
      "sideBar": true,
      "skip_h1_title": true,
      "title_cell": "Table of Contents",
      "title_sidebar": "Contents",
      "toc_cell": false,
      "toc_position": {
        "height": "calc(100% - 180px)",
        "left": "10px",
        "top": "150px",
        "width": "240px"
      },
      "toc_section_display": true,
      "toc_window_display": true
    }
  },
  "nbformat_minor": 4,
  "nbformat": 4,
  "cells": [
    {
      "cell_type": "markdown",
      "source": "# Contents\n\n* Introduction\n* Stage 1 : Data overview\n    * 1.1 Goal\n    * 1.2 Stages\n    \n* Stage 2 : Data preprocessing\n    * 2.1 Import Library\n    * 2.2 Load Data\n    * 2.3 Data Quality Checking\n    * 2.4 Data Cleansing\n    \n* Stage 3 : Exploratory Data Analysis (EDA).\n        \n* Stage 4 : Menguji Hipotesis & Analisis Data Statistik\n    * 4.1  Bersihkan Outliers\n    * 4.2  Uji Kenormalan Data\n    * 4.3  Uji Variansi Data\n    * 4.4  Uji Mannwhitneyu\n\n* Stage 5 : Kesimpulan Umum\n\n\n#  Introduction\n\nSetiap kali kita melakukan penelitian, kita membutuhkan formula hipotesis yang akan kita uji. Terkadang kita bisa menerima hipotesis tersebut, dan juga kita dapat menolaknya. Pebisnis harus paham untuk membuat asumsi yang tepat.\n\nDalam projek kali ini, kita akan menemukan pola pada informasi yang tersedia, memahami preferensi penumpang dan dampak faktor eksternal terhadap perjalanan, dan menganalisis data dari kompetitor dan menguji hipotesis terkait pengaruh cuaca terhadap frekuensi perjalanan dari database. \n\nTerdapat data yang tersedia dari database, Yang mana data tersebut akan dilakukan uji hipotesis berikut :\n\n   * Durasi rata-rata perjalanan dari Loop ke Bandara Internasional O'Hare berubah saat hujan di hari Sabtu ",
      "metadata": {}
    },
    {
      "cell_type": "markdown",
      "source": "## Data Overview\n\nKamu bekerja sebagai seorang analyst untuk Zuber, sebuah perusahaan berbagi tumpangan (ride-sharing) baru yang diluncurkan di Chicago. Tugasmu adalah untuk menemukan pola pada informasi yang tersedia. Kamu ingin memahami preferensi penumpang dan dampak faktor eksternal terhadap perjalanan.\n\nDengan menggunakan database, kamu akan menganalisis data dari kompetitor dan menguji hipotesis terkait pengaruh cuaca terhadap frekuensi perjalanan. \n\n### Goal\n\nTujuan Utama dalam Analisis Data ini adalah :\n\n   1. Menganalisis data dari kompetitor dan menguji hipotesis terkait pengaruh cuaca terhadap frekuensi perjalanan.\n    \n### Stages\n\nData yang berasal dari departemen periklanan disimpan dalam beberapa file :\n   1. 'project_sql_result_01.csv'\n   2. 'project_sql_result_04.csv'\n   3. 'project_sql_result_07.csv'\n\nTidak terdapat informasi tentang kualitas data, sehingga kita harus eksplor data tersebut sebelum melakukan hipotesis.\n\nPertama, kita akan mengevaluasi kualitas data dan melihat apakah ada masalah yang signifikan. Kemudian, selama data preprocessing, kita akan menghitung masalah kritis.\n\nDalam projek ini terdiri dari empat tahapan : \n\n    1. Data overview\n    2. Data preprocessing\n    3. Exploratory Data Analysis (EDA)\n    4. Analisis Data Statistik",
      "metadata": {}
    },
    {
      "cell_type": "markdown",
      "source": "## Data Preprocessing",
      "metadata": {}
    },
    {
      "cell_type": "markdown",
      "source": "### Import Library",
      "metadata": {}
    },
    {
      "cell_type": "code",
      "source": "# Import Library Data Processing\nimport pandas as pd, numpy as np\n# Import Library Data Visualization\nimport matplotlib.pyplot as plt, seaborn as sns\n# Import library Statistics\nfrom scipy.stats import levene, shapiro, ttest_ind, mannwhitneyu",
      "metadata": {},
      "outputs": [],
      "execution_count": 1
    },
    {
      "cell_type": "markdown",
      "source": "### Load Data",
      "metadata": {}
    },
    {
      "cell_type": "code",
      "source": "path1 = '/datasets/project_sql_result_01.csv'\ndata1 = pd.read_csv(path1)\ndata1.head()",
      "metadata": {},
      "outputs": [
        {
          "data": {
            "text/html": [
              "<div>\n",
              "<style scoped>\n",
              "    .dataframe tbody tr th:only-of-type {\n",
              "        vertical-align: middle;\n",
              "    }\n",
              "\n",
              "    .dataframe tbody tr th {\n",
              "        vertical-align: top;\n",
              "    }\n",
              "\n",
              "    .dataframe thead th {\n",
              "        text-align: right;\n",
              "    }\n",
              "</style>\n",
              "<table border=\"1\" class=\"dataframe\">\n",
              "  <thead>\n",
              "    <tr style=\"text-align: right;\">\n",
              "      <th></th>\n",
              "      <th>company_name</th>\n",
              "      <th>trips_amount</th>\n",
              "    </tr>\n",
              "  </thead>\n",
              "  <tbody>\n",
              "    <tr>\n",
              "      <th>0</th>\n",
              "      <td>Flash Cab</td>\n",
              "      <td>19558</td>\n",
              "    </tr>\n",
              "    <tr>\n",
              "      <th>1</th>\n",
              "      <td>Taxi Affiliation Services</td>\n",
              "      <td>11422</td>\n",
              "    </tr>\n",
              "    <tr>\n",
              "      <th>2</th>\n",
              "      <td>Medallion Leasing</td>\n",
              "      <td>10367</td>\n",
              "    </tr>\n",
              "    <tr>\n",
              "      <th>3</th>\n",
              "      <td>Yellow Cab</td>\n",
              "      <td>9888</td>\n",
              "    </tr>\n",
              "    <tr>\n",
              "      <th>4</th>\n",
              "      <td>Taxi Affiliation Service Yellow</td>\n",
              "      <td>9299</td>\n",
              "    </tr>\n",
              "  </tbody>\n",
              "</table>\n",
              "</div>"
            ],
            "text/plain": [
              "                      company_name  trips_amount\n",
              "0                        Flash Cab         19558\n",
              "1        Taxi Affiliation Services         11422\n",
              "2                Medallion Leasing         10367\n",
              "3                       Yellow Cab          9888\n",
              "4  Taxi Affiliation Service Yellow          9299"
            ]
          },
          "execution_count": 2,
          "metadata": {},
          "output_type": "execute_result"
        }
      ],
      "execution_count": 2
    },
    {
      "cell_type": "code",
      "source": "path2 = '/datasets/project_sql_result_04.csv'\ndata2 = pd.read_csv(path2)\ndata2.head()",
      "metadata": {},
      "outputs": [
        {
          "data": {
            "text/html": [
              "<div>\n",
              "<style scoped>\n",
              "    .dataframe tbody tr th:only-of-type {\n",
              "        vertical-align: middle;\n",
              "    }\n",
              "\n",
              "    .dataframe tbody tr th {\n",
              "        vertical-align: top;\n",
              "    }\n",
              "\n",
              "    .dataframe thead th {\n",
              "        text-align: right;\n",
              "    }\n",
              "</style>\n",
              "<table border=\"1\" class=\"dataframe\">\n",
              "  <thead>\n",
              "    <tr style=\"text-align: right;\">\n",
              "      <th></th>\n",
              "      <th>dropoff_location_name</th>\n",
              "      <th>average_trips</th>\n",
              "    </tr>\n",
              "  </thead>\n",
              "  <tbody>\n",
              "    <tr>\n",
              "      <th>0</th>\n",
              "      <td>Loop</td>\n",
              "      <td>10727.466667</td>\n",
              "    </tr>\n",
              "    <tr>\n",
              "      <th>1</th>\n",
              "      <td>River North</td>\n",
              "      <td>9523.666667</td>\n",
              "    </tr>\n",
              "    <tr>\n",
              "      <th>2</th>\n",
              "      <td>Streeterville</td>\n",
              "      <td>6664.666667</td>\n",
              "    </tr>\n",
              "    <tr>\n",
              "      <th>3</th>\n",
              "      <td>West Loop</td>\n",
              "      <td>5163.666667</td>\n",
              "    </tr>\n",
              "    <tr>\n",
              "      <th>4</th>\n",
              "      <td>O'Hare</td>\n",
              "      <td>2546.900000</td>\n",
              "    </tr>\n",
              "  </tbody>\n",
              "</table>\n",
              "</div>"
            ],
            "text/plain": [
              "  dropoff_location_name  average_trips\n",
              "0                  Loop   10727.466667\n",
              "1           River North    9523.666667\n",
              "2         Streeterville    6664.666667\n",
              "3             West Loop    5163.666667\n",
              "4                O'Hare    2546.900000"
            ]
          },
          "execution_count": 3,
          "metadata": {},
          "output_type": "execute_result"
        }
      ],
      "execution_count": 3
    },
    {
      "cell_type": "code",
      "source": "path3 = '/datasets/project_sql_result_07.csv'\ndata3 = pd.read_csv(path3)\ndata3.head()",
      "metadata": {},
      "outputs": [
        {
          "data": {
            "text/html": [
              "<div>\n",
              "<style scoped>\n",
              "    .dataframe tbody tr th:only-of-type {\n",
              "        vertical-align: middle;\n",
              "    }\n",
              "\n",
              "    .dataframe tbody tr th {\n",
              "        vertical-align: top;\n",
              "    }\n",
              "\n",
              "    .dataframe thead th {\n",
              "        text-align: right;\n",
              "    }\n",
              "</style>\n",
              "<table border=\"1\" class=\"dataframe\">\n",
              "  <thead>\n",
              "    <tr style=\"text-align: right;\">\n",
              "      <th></th>\n",
              "      <th>start_ts</th>\n",
              "      <th>weather_conditions</th>\n",
              "      <th>duration_seconds</th>\n",
              "    </tr>\n",
              "  </thead>\n",
              "  <tbody>\n",
              "    <tr>\n",
              "      <th>0</th>\n",
              "      <td>2017-11-25 16:00:00</td>\n",
              "      <td>Good</td>\n",
              "      <td>2410.0</td>\n",
              "    </tr>\n",
              "    <tr>\n",
              "      <th>1</th>\n",
              "      <td>2017-11-25 14:00:00</td>\n",
              "      <td>Good</td>\n",
              "      <td>1920.0</td>\n",
              "    </tr>\n",
              "    <tr>\n",
              "      <th>2</th>\n",
              "      <td>2017-11-25 12:00:00</td>\n",
              "      <td>Good</td>\n",
              "      <td>1543.0</td>\n",
              "    </tr>\n",
              "    <tr>\n",
              "      <th>3</th>\n",
              "      <td>2017-11-04 10:00:00</td>\n",
              "      <td>Good</td>\n",
              "      <td>2512.0</td>\n",
              "    </tr>\n",
              "    <tr>\n",
              "      <th>4</th>\n",
              "      <td>2017-11-11 07:00:00</td>\n",
              "      <td>Good</td>\n",
              "      <td>1440.0</td>\n",
              "    </tr>\n",
              "  </tbody>\n",
              "</table>\n",
              "</div>"
            ],
            "text/plain": [
              "              start_ts weather_conditions  duration_seconds\n",
              "0  2017-11-25 16:00:00               Good            2410.0\n",
              "1  2017-11-25 14:00:00               Good            1920.0\n",
              "2  2017-11-25 12:00:00               Good            1543.0\n",
              "3  2017-11-04 10:00:00               Good            2512.0\n",
              "4  2017-11-11 07:00:00               Good            1440.0"
            ]
          },
          "execution_count": 4,
          "metadata": {},
          "output_type": "execute_result"
        }
      ],
      "execution_count": 4
    },
    {
      "cell_type": "markdown",
      "source": "### Data Quality Checking",
      "metadata": {}
    },
    {
      "cell_type": "code",
      "source": "# cek info data 1\ndata1.info()\nprint('\\nmissing value: \\n', data1.isnull().sum())\nprint('\\nDuplikasi    :', data1.duplicated().sum())",
      "metadata": {},
      "outputs": [
        {
          "name": "stdout",
          "output_type": "stream",
          "text": [
            "<class 'pandas.core.frame.DataFrame'>\n",
            "RangeIndex: 64 entries, 0 to 63\n",
            "Data columns (total 2 columns):\n",
            " #   Column        Non-Null Count  Dtype \n",
            "---  ------        --------------  ----- \n",
            " 0   company_name  64 non-null     object\n",
            " 1   trips_amount  64 non-null     int64 \n",
            "dtypes: int64(1), object(1)\n",
            "memory usage: 1.1+ KB\n",
            "\n",
            "missing value: \n",
            " company_name    0\n",
            "trips_amount    0\n",
            "dtype: int64\n",
            "\n",
            "Duplikasi    : 0\n"
          ]
        }
      ],
      "execution_count": 5
    },
    {
      "cell_type": "code",
      "source": "# cek info data 2\ndata2.info()\nprint('\\nmissing value: \\n', data2.isnull().sum())\nprint('\\nDuplikasi    :', data2.duplicated().sum())",
      "metadata": {},
      "outputs": [
        {
          "name": "stdout",
          "output_type": "stream",
          "text": [
            "<class 'pandas.core.frame.DataFrame'>\n",
            "RangeIndex: 94 entries, 0 to 93\n",
            "Data columns (total 2 columns):\n",
            " #   Column                 Non-Null Count  Dtype  \n",
            "---  ------                 --------------  -----  \n",
            " 0   dropoff_location_name  94 non-null     object \n",
            " 1   average_trips          94 non-null     float64\n",
            "dtypes: float64(1), object(1)\n",
            "memory usage: 1.6+ KB\n",
            "\n",
            "missing value: \n",
            " dropoff_location_name    0\n",
            "average_trips            0\n",
            "dtype: int64\n",
            "\n",
            "Duplikasi    : 0\n"
          ]
        }
      ],
      "execution_count": 6
    },
    {
      "cell_type": "code",
      "source": "# cek info data 3\ndata3.info()\nprint('\\nmissing value: \\n', data3.isnull().sum())\nprint('\\nDuplikasi    :', data3.duplicated().sum())",
      "metadata": {
        "scrolled": true
      },
      "outputs": [
        {
          "name": "stdout",
          "output_type": "stream",
          "text": [
            "<class 'pandas.core.frame.DataFrame'>\n",
            "RangeIndex: 1068 entries, 0 to 1067\n",
            "Data columns (total 3 columns):\n",
            " #   Column              Non-Null Count  Dtype  \n",
            "---  ------              --------------  -----  \n",
            " 0   start_ts            1068 non-null   object \n",
            " 1   weather_conditions  1068 non-null   object \n",
            " 2   duration_seconds    1068 non-null   float64\n",
            "dtypes: float64(1), object(2)\n",
            "memory usage: 25.2+ KB\n",
            "\n",
            "missing value: \n",
            " start_ts              0\n",
            "weather_conditions    0\n",
            "duration_seconds      0\n",
            "dtype: int64\n",
            "\n",
            "Duplikasi    : 197\n"
          ]
        }
      ],
      "execution_count": 7
    },
    {
      "cell_type": "markdown",
      "source": "**Kesimpulan Sementara**\n1. Tidak terdapat missing value dan duplikasi pada ketiga dataset \n2. Beberapa kolom memiliki tipe data int64 dan float64, untuk itu perlu dirubah menjadi int16 dan float16 agar tidak memakan memory banyak\n3. Kolom start_ts pada dataset 3 memiliki tipe data yang salah, perlu dirubah ke tipe data datetime",
      "metadata": {}
    },
    {
      "cell_type": "markdown",
      "source": "### Data Cleansing",
      "metadata": {}
    },
    {
      "cell_type": "code",
      "source": "# Memastikan tipe data nya sudah benar\ndata1['trips_amount'] = data1['trips_amount'].astype('int16')\ndata1.info()",
      "metadata": {},
      "outputs": [
        {
          "name": "stdout",
          "output_type": "stream",
          "text": [
            "<class 'pandas.core.frame.DataFrame'>\n",
            "RangeIndex: 64 entries, 0 to 63\n",
            "Data columns (total 2 columns):\n",
            " #   Column        Non-Null Count  Dtype \n",
            "---  ------        --------------  ----- \n",
            " 0   company_name  64 non-null     object\n",
            " 1   trips_amount  64 non-null     int16 \n",
            "dtypes: int16(1), object(1)\n",
            "memory usage: 768.0+ bytes\n"
          ]
        }
      ],
      "execution_count": 8
    },
    {
      "cell_type": "code",
      "source": "# Memastikan tipe data nya sudah benar\ndata2['average_trips'] = data2['average_trips'].astype('float16')\ndata2.info()",
      "metadata": {},
      "outputs": [
        {
          "name": "stdout",
          "output_type": "stream",
          "text": [
            "<class 'pandas.core.frame.DataFrame'>\n",
            "RangeIndex: 94 entries, 0 to 93\n",
            "Data columns (total 2 columns):\n",
            " #   Column                 Non-Null Count  Dtype  \n",
            "---  ------                 --------------  -----  \n",
            " 0   dropoff_location_name  94 non-null     object \n",
            " 1   average_trips          94 non-null     float16\n",
            "dtypes: float16(1), object(1)\n",
            "memory usage: 1.0+ KB\n"
          ]
        }
      ],
      "execution_count": 9
    },
    {
      "cell_type": "code",
      "source": "# Memastikan tipe data nya sudah benar\ndata3['duration_seconds'] = data3['duration_seconds'].astype('int16')\n# Merubah tipe data kolom start_ts ke datetime\ndata3['start_ts'] = pd.to_datetime(data3['start_ts'])\ndata3.info()",
      "metadata": {},
      "outputs": [
        {
          "name": "stdout",
          "output_type": "stream",
          "text": [
            "<class 'pandas.core.frame.DataFrame'>\n",
            "RangeIndex: 1068 entries, 0 to 1067\n",
            "Data columns (total 3 columns):\n",
            " #   Column              Non-Null Count  Dtype         \n",
            "---  ------              --------------  -----         \n",
            " 0   start_ts            1068 non-null   datetime64[ns]\n",
            " 1   weather_conditions  1068 non-null   object        \n",
            " 2   duration_seconds    1068 non-null   int16         \n",
            "dtypes: datetime64[ns](1), int16(1), object(1)\n",
            "memory usage: 18.9+ KB\n"
          ]
        }
      ],
      "execution_count": 10
    },
    {
      "cell_type": "markdown",
      "source": "**Kesimpulan Sementara**\n1. Beberapa kolom memiliki tipe data int64 dan float64, telah dirubah menjadi int16 dan float16 \n2. Kolom start_ts pada dataset 3 memiliki tipe data yang salah telah dirubah ke tipe data datetime",
      "metadata": {}
    },
    {
      "cell_type": "markdown",
      "source": "## Exploratory Data Analysis (EDA)",
      "metadata": {}
    },
    {
      "cell_type": "code",
      "source": "# mengidentifikasi 10 wilayah teratas yang dijadikan sebagai titik pengantaran\ntop_dropoff = data2.sort_values(by='average_trips', ascending=False)[:10]\ntop_dropoff",
      "metadata": {},
      "outputs": [
        {
          "data": {
            "text/html": [
              "<div>\n",
              "<style scoped>\n",
              "    .dataframe tbody tr th:only-of-type {\n",
              "        vertical-align: middle;\n",
              "    }\n",
              "\n",
              "    .dataframe tbody tr th {\n",
              "        vertical-align: top;\n",
              "    }\n",
              "\n",
              "    .dataframe thead th {\n",
              "        text-align: right;\n",
              "    }\n",
              "</style>\n",
              "<table border=\"1\" class=\"dataframe\">\n",
              "  <thead>\n",
              "    <tr style=\"text-align: right;\">\n",
              "      <th></th>\n",
              "      <th>dropoff_location_name</th>\n",
              "      <th>average_trips</th>\n",
              "    </tr>\n",
              "  </thead>\n",
              "  <tbody>\n",
              "    <tr>\n",
              "      <th>0</th>\n",
              "      <td>Loop</td>\n",
              "      <td>10728.0</td>\n",
              "    </tr>\n",
              "    <tr>\n",
              "      <th>1</th>\n",
              "      <td>River North</td>\n",
              "      <td>9520.0</td>\n",
              "    </tr>\n",
              "    <tr>\n",
              "      <th>2</th>\n",
              "      <td>Streeterville</td>\n",
              "      <td>6664.0</td>\n",
              "    </tr>\n",
              "    <tr>\n",
              "      <th>3</th>\n",
              "      <td>West Loop</td>\n",
              "      <td>5164.0</td>\n",
              "    </tr>\n",
              "    <tr>\n",
              "      <th>4</th>\n",
              "      <td>O'Hare</td>\n",
              "      <td>2546.0</td>\n",
              "    </tr>\n",
              "    <tr>\n",
              "      <th>5</th>\n",
              "      <td>Lake View</td>\n",
              "      <td>2420.0</td>\n",
              "    </tr>\n",
              "    <tr>\n",
              "      <th>6</th>\n",
              "      <td>Grant Park</td>\n",
              "      <td>2068.0</td>\n",
              "    </tr>\n",
              "    <tr>\n",
              "      <th>7</th>\n",
              "      <td>Museum Campus</td>\n",
              "      <td>1510.0</td>\n",
              "    </tr>\n",
              "    <tr>\n",
              "      <th>8</th>\n",
              "      <td>Gold Coast</td>\n",
              "      <td>1364.0</td>\n",
              "    </tr>\n",
              "    <tr>\n",
              "      <th>9</th>\n",
              "      <td>Sheffield &amp; DePaul</td>\n",
              "      <td>1260.0</td>\n",
              "    </tr>\n",
              "  </tbody>\n",
              "</table>\n",
              "</div>"
            ],
            "text/plain": [
              "  dropoff_location_name  average_trips\n",
              "0                  Loop        10728.0\n",
              "1           River North         9520.0\n",
              "2         Streeterville         6664.0\n",
              "3             West Loop         5164.0\n",
              "4                O'Hare         2546.0\n",
              "5             Lake View         2420.0\n",
              "6            Grant Park         2068.0\n",
              "7         Museum Campus         1510.0\n",
              "8            Gold Coast         1364.0\n",
              "9    Sheffield & DePaul         1260.0"
            ]
          },
          "execution_count": 11,
          "metadata": {},
          "output_type": "execute_result"
        }
      ],
      "execution_count": 11
    },
    {
      "cell_type": "code",
      "source": "# mengidentifikasi 10 perusahaan taksi dan jumlah perjalanannya\ntop_company = data1.sort_values(by='trips_amount', ascending=False)[:10]\ntop_company",
      "metadata": {},
      "outputs": [
        {
          "data": {
            "text/html": [
              "<div>\n",
              "<style scoped>\n",
              "    .dataframe tbody tr th:only-of-type {\n",
              "        vertical-align: middle;\n",
              "    }\n",
              "\n",
              "    .dataframe tbody tr th {\n",
              "        vertical-align: top;\n",
              "    }\n",
              "\n",
              "    .dataframe thead th {\n",
              "        text-align: right;\n",
              "    }\n",
              "</style>\n",
              "<table border=\"1\" class=\"dataframe\">\n",
              "  <thead>\n",
              "    <tr style=\"text-align: right;\">\n",
              "      <th></th>\n",
              "      <th>company_name</th>\n",
              "      <th>trips_amount</th>\n",
              "    </tr>\n",
              "  </thead>\n",
              "  <tbody>\n",
              "    <tr>\n",
              "      <th>0</th>\n",
              "      <td>Flash Cab</td>\n",
              "      <td>19558</td>\n",
              "    </tr>\n",
              "    <tr>\n",
              "      <th>1</th>\n",
              "      <td>Taxi Affiliation Services</td>\n",
              "      <td>11422</td>\n",
              "    </tr>\n",
              "    <tr>\n",
              "      <th>2</th>\n",
              "      <td>Medallion Leasing</td>\n",
              "      <td>10367</td>\n",
              "    </tr>\n",
              "    <tr>\n",
              "      <th>3</th>\n",
              "      <td>Yellow Cab</td>\n",
              "      <td>9888</td>\n",
              "    </tr>\n",
              "    <tr>\n",
              "      <th>4</th>\n",
              "      <td>Taxi Affiliation Service Yellow</td>\n",
              "      <td>9299</td>\n",
              "    </tr>\n",
              "    <tr>\n",
              "      <th>5</th>\n",
              "      <td>Chicago Carriage Cab Corp</td>\n",
              "      <td>9181</td>\n",
              "    </tr>\n",
              "    <tr>\n",
              "      <th>6</th>\n",
              "      <td>City Service</td>\n",
              "      <td>8448</td>\n",
              "    </tr>\n",
              "    <tr>\n",
              "      <th>7</th>\n",
              "      <td>Sun Taxi</td>\n",
              "      <td>7701</td>\n",
              "    </tr>\n",
              "    <tr>\n",
              "      <th>8</th>\n",
              "      <td>Star North Management LLC</td>\n",
              "      <td>7455</td>\n",
              "    </tr>\n",
              "    <tr>\n",
              "      <th>9</th>\n",
              "      <td>Blue Ribbon Taxi Association Inc.</td>\n",
              "      <td>5953</td>\n",
              "    </tr>\n",
              "  </tbody>\n",
              "</table>\n",
              "</div>"
            ],
            "text/plain": [
              "                        company_name  trips_amount\n",
              "0                          Flash Cab         19558\n",
              "1          Taxi Affiliation Services         11422\n",
              "2                  Medallion Leasing         10367\n",
              "3                         Yellow Cab          9888\n",
              "4    Taxi Affiliation Service Yellow          9299\n",
              "5          Chicago Carriage Cab Corp          9181\n",
              "6                       City Service          8448\n",
              "7                           Sun Taxi          7701\n",
              "8          Star North Management LLC          7455\n",
              "9  Blue Ribbon Taxi Association Inc.          5953"
            ]
          },
          "execution_count": 12,
          "metadata": {},
          "output_type": "execute_result"
        }
      ],
      "execution_count": 12
    },
    {
      "cell_type": "code",
      "source": "# Membuat grafik: perusahaan taksi dan jumlah perjalanannya, \n# 10 wilayah teratas berdasarkan jumlah pengantaran\nplt.figure(figsize=(10,6))\nsns.barplot(data=top_dropoff, x='average_trips', y='dropoff_location_name')\nplt.title('Top 10 Wilayah yang jadi Drop Off')\nplt.show()",
      "metadata": {},
      "outputs": [
        {
          "data": {
            "image/png": "[encoded data removed]",
            "text/plain": [
              "<Figure size 720x432 with 1 Axes>"
            ]
          },
          "metadata": {
            "needs_background": "light"
          },
          "output_type": "display_data"
        }
      ],
      "execution_count": 13
    },
    {
      "cell_type": "code",
      "source": "# Membuat grafik: 10 perusahaan taksi dan jumlah perjalanannya\nplt.figure(figsize=(10, 6))\nsns.barplot(data=top_company, x='trips_amount', y='company_name')\nplt.title('Top 10 Company')\nplt.show()",
      "metadata": {},
      "outputs": [
        {
          "data": {
            "image/png": "[encoded data removed]",
            "text/plain": [
              "<Figure size 720x432 with 1 Axes>"
            ]
          },
          "metadata": {
            "needs_background": "light"
          },
          "output_type": "display_data"
        }
      ],
      "execution_count": 14
    },
    {
      "cell_type": "markdown",
      "source": "**Kesimpulan Sementara**\n* Findings :\n    * Wilayah Loop adalah wilayah yang paling banyak dijadikan tempat dropoff hingga lebih dari 10 ribu perjalanan\n    * Perusahaan Flash Cab merupakan perusahaan yang paling banyak digunakan hingga lebih dari 19 ribu perjalanan\n    * Top 10 Wilayah yang sering dijadikan dropoff memiliki jumlah total perjalanan lebih dari 1000 perjalanan\n    * Top 10 Perusahaan memiliki jumlah total perjalanan lebih dari 5000 perjalanan\n    \n* insight :\n    * Orang-orang lebih banyak percaya dan suka menggunakan layanan dari perusahaan Flash Cab\n    * Wilayah Loop dan River North merupakan wilayah yang ramai penduduk, karena sering dijadikan tempat dropoff",
      "metadata": {}
    },
    {
      "cell_type": "markdown",
      "source": "## Menguji Hipotesis & Analisis Data Statistik\n\nKriteria yang saya gunakan untuk menguji hipotesis adalah uji variansi, dan uji distribusi kenormalan, Metode perbandinganya menggunakan mannwhitneyu untuk metode two independent test.\n\nSaya juga menggunakan uji levence untuk mengetahui apakah variansi nya dari distribusi yg sama atau tidak, kalau menggunakan ttest bisa jadi p-valuenya terdapat perbedaan yang signifikan.",
      "metadata": {}
    },
    {
      "cell_type": "code",
      "source": "# cek dataset\ndata3.head()",
      "metadata": {},
      "outputs": [
        {
          "data": {
            "text/html": [
              "<div>\n",
              "<style scoped>\n",
              "    .dataframe tbody tr th:only-of-type {\n",
              "        vertical-align: middle;\n",
              "    }\n",
              "\n",
              "    .dataframe tbody tr th {\n",
              "        vertical-align: top;\n",
              "    }\n",
              "\n",
              "    .dataframe thead th {\n",
              "        text-align: right;\n",
              "    }\n",
              "</style>\n",
              "<table border=\"1\" class=\"dataframe\">\n",
              "  <thead>\n",
              "    <tr style=\"text-align: right;\">\n",
              "      <th></th>\n",
              "      <th>start_ts</th>\n",
              "      <th>weather_conditions</th>\n",
              "      <th>duration_seconds</th>\n",
              "    </tr>\n",
              "  </thead>\n",
              "  <tbody>\n",
              "    <tr>\n",
              "      <th>0</th>\n",
              "      <td>2017-11-25 16:00:00</td>\n",
              "      <td>Good</td>\n",
              "      <td>2410</td>\n",
              "    </tr>\n",
              "    <tr>\n",
              "      <th>1</th>\n",
              "      <td>2017-11-25 14:00:00</td>\n",
              "      <td>Good</td>\n",
              "      <td>1920</td>\n",
              "    </tr>\n",
              "    <tr>\n",
              "      <th>2</th>\n",
              "      <td>2017-11-25 12:00:00</td>\n",
              "      <td>Good</td>\n",
              "      <td>1543</td>\n",
              "    </tr>\n",
              "    <tr>\n",
              "      <th>3</th>\n",
              "      <td>2017-11-04 10:00:00</td>\n",
              "      <td>Good</td>\n",
              "      <td>2512</td>\n",
              "    </tr>\n",
              "    <tr>\n",
              "      <th>4</th>\n",
              "      <td>2017-11-11 07:00:00</td>\n",
              "      <td>Good</td>\n",
              "      <td>1440</td>\n",
              "    </tr>\n",
              "  </tbody>\n",
              "</table>\n",
              "</div>"
            ],
            "text/plain": [
              "             start_ts weather_conditions  duration_seconds\n",
              "0 2017-11-25 16:00:00               Good              2410\n",
              "1 2017-11-25 14:00:00               Good              1920\n",
              "2 2017-11-25 12:00:00               Good              1543\n",
              "3 2017-11-04 10:00:00               Good              2512\n",
              "4 2017-11-11 07:00:00               Good              1440"
            ]
          },
          "execution_count": 15,
          "metadata": {},
          "output_type": "execute_result"
        }
      ],
      "execution_count": 15
    },
    {
      "cell_type": "code",
      "source": "# Pastikan semua hari adalah sabtu semua\ndata3['start_ts'].dt.weekday.unique()",
      "metadata": {},
      "outputs": [
        {
          "data": {
            "text/plain": [
              "array([5])"
            ]
          },
          "execution_count": 16,
          "metadata": {},
          "output_type": "execute_result"
        }
      ],
      "execution_count": 16
    },
    {
      "cell_type": "markdown",
      "source": "* Ternyata data kita semuanya adalah hari sabtu",
      "metadata": {}
    },
    {
      "cell_type": "code",
      "source": "# Cek Distribusi dari durasi saat cuaca baik dan buruk\nplt.title('Distribusi dari durasi saat cuaca baik dan buruk')\nsns.violinplot(data=data3, x='duration_seconds', y='weather_conditions')\nplt.show()",
      "metadata": {
        "scrolled": true
      },
      "outputs": [
        {
          "data": {
            "image/png": "[encoded data removed]",
            "text/plain": [
              "<Figure size 432x288 with 1 Axes>"
            ]
          },
          "metadata": {
            "needs_background": "light"
          },
          "output_type": "display_data"
        }
      ],
      "execution_count": 17
    },
    {
      "cell_type": "markdown",
      "source": "* Distribusi dari durasi saat cuaca baik dan buruk sekilas persebarannya terlihat merata, akan tetapi terdapat outliers yang berlebihan pada kedua kondisi cuaca tersebut",
      "metadata": {}
    },
    {
      "cell_type": "markdown",
      "source": "### Bersihkan Outliers",
      "metadata": {}
    },
    {
      "cell_type": "code",
      "source": "# Pisahkan 2 kondisi tersebut\ngood = data3.loc[data3['weather_conditions']== 'Good', 'duration_seconds']\nbad = data3.loc[data3['weather_conditions']== 'Bad', 'duration_seconds']",
      "metadata": {},
      "outputs": [],
      "execution_count": 18
    },
    {
      "cell_type": "code",
      "source": "# buat function untuk membersihkan outlier\ndef remove_outliers(series):\n    q1 = series.quantile(0.25)\n    q3 = series.quantile(0.75)\n    iqr = q3 - q1\n    \n    upper_bound = q3 + 1.5 * iqr\n    lower_bound = q1 - 1.5 * iqr\n    output = series[(series > lower_bound) & (series < upper_bound)]\n    return output",
      "metadata": {},
      "outputs": [],
      "execution_count": 19
    },
    {
      "cell_type": "code",
      "source": "# Bersihkan data dari outlier\ngood = remove_outliers(good)\nbad = remove_outliers(bad)",
      "metadata": {},
      "outputs": [],
      "execution_count": 20
    },
    {
      "cell_type": "code",
      "source": "# cek grafik nya\nplt.title('Distribusi dari durasi saat cuaca baik')\nsns.violinplot(x=good)\nplt.show()",
      "metadata": {},
      "outputs": [
        {
          "data": {
            "image/png": "[encoded data removed]",
            "text/plain": [
              "<Figure size 432x288 with 1 Axes>"
            ]
          },
          "metadata": {
            "needs_background": "light"
          },
          "output_type": "display_data"
        }
      ],
      "execution_count": 21
    },
    {
      "cell_type": "code",
      "source": "# cek grafik nya\nplt.title('Distribusi dari durasi saat cuaca buruk')\nsns.violinplot(x=bad,  color='orange')\nplt.show()",
      "metadata": {},
      "outputs": [
        {
          "data": {
            "image/png": "[encoded data removed]",
            "text/plain": [
              "<Figure size 432x288 with 1 Axes>"
            ]
          },
          "metadata": {
            "needs_background": "light"
          },
          "output_type": "display_data"
        }
      ],
      "execution_count": 22
    },
    {
      "cell_type": "markdown",
      "source": "* Outliers telah di bersihkan dari dua kondisi tersebut, sehingga distribusi nya lebih rapi dan merata",
      "metadata": {}
    },
    {
      "cell_type": "markdown",
      "source": "### Uji Kenormalan Data",
      "metadata": {}
    },
    {
      "cell_type": "code",
      "source": "# Bikin function uji kenormalan\ndef normality_test(series, alpha=0.05):\n    p_value_shapiro = shapiro(series).pvalue\n    print(f'P-Value: {p_value_shapiro}')\n    print(f'Alpha  : {alpha}')\n    if p_value_shapiro >= alpha:\n        print('H0 Diterima: Distribusi data tersebut adalah normal')\n    else:\n        print('H1 Diterima: Distribusi data tersebut adalah tidak normal')",
      "metadata": {},
      "outputs": [],
      "execution_count": 23
    },
    {
      "cell_type": "code",
      "source": "# cek kenormalan pada kondisi good\nnormality_test(good)",
      "metadata": {},
      "outputs": [
        {
          "name": "stdout",
          "output_type": "stream",
          "text": [
            "P-Value: 8.395970071377549e-19\n",
            "Alpha  : 0.05\n",
            "H1 Diterima: Distribusi data tersebut adalah tidak normal\n"
          ]
        }
      ],
      "execution_count": 24
    },
    {
      "cell_type": "code",
      "source": "# cek kenormalan pada kondisi bad\nnormality_test(bad)",
      "metadata": {},
      "outputs": [
        {
          "name": "stdout",
          "output_type": "stream",
          "text": [
            "P-Value: 0.0002595653641037643\n",
            "Alpha  : 0.05\n",
            "H1 Diterima: Distribusi data tersebut adalah tidak normal\n"
          ]
        }
      ],
      "execution_count": 25
    },
    {
      "cell_type": "markdown",
      "source": "* Berdasarkan uji kenormalan data diatas, Distribusi data Good dan Bad merupakan distribusi tidak normal.",
      "metadata": {}
    },
    {
      "cell_type": "markdown",
      "source": "### Uji Variansi Data",
      "metadata": {}
    },
    {
      "cell_type": "code",
      "source": "# Bikin function uji variansi\ndef levene_variance(series1, series2, alpha=0.05):\n    p_value_levene = levene(series1, series2).pvalue\n    print(f'P-Value: {p_value_levene}')\n    print(f'Alpha  : {alpha}')\n    if p_value_levene >= alpha:\n        print('H0 Diterima: Kedua data memiliki variansi yang sama')\n    else:\n        print('H1 Diterima: Kedua data memiliki variansi yang berbeda')",
      "metadata": {},
      "outputs": [],
      "execution_count": 26
    },
    {
      "cell_type": "code",
      "source": "# cek variansi\nlevene_variance(good, bad)",
      "metadata": {},
      "outputs": [
        {
          "name": "stdout",
          "output_type": "stream",
          "text": [
            "P-Value: 0.3563611473946102\n",
            "Alpha  : 0.05\n",
            "H0 Diterima: Kedua data memiliki variansi yang sama\n"
          ]
        }
      ],
      "execution_count": 27
    },
    {
      "cell_type": "markdown",
      "source": "* Berdasarkan uji variansi diatas, Data good dan bad memiliki P-Value 0.35 dan hal tersebut lebih besar dari Alpha yang bernilai 0.05, sehingga variansi pada data good dan bad memiliki variansi yang sama\n* Kedua data tersebut memiliki variansi yang mirip, meskipun distribusi nya mirip tetapi secara statistik keduanya berbeda, karena median data di good lebih rendah daripada di bad",
      "metadata": {}
    },
    {
      "cell_type": "markdown",
      "source": "### Uji Mannwhitneyu",
      "metadata": {}
    },
    {
      "cell_type": "code",
      "source": "# Bikin function uji mannwhitneyu\ndef two_independent_test(series1, series2, alpha=0.05):\n    p_value = mannwhitneyu(series1, series2).pvalue\n    print(f'P-Value: {p_value}')\n    print(f'Alpha  : {alpha}')\n    if p_value >= alpha:\n        print('H0 Diterima: Rata-rata dari kedua data sama')\n    else:\n        print('H1 Diterima: Rata-rata dari kedua data berbeda')",
      "metadata": {},
      "outputs": [],
      "execution_count": 28
    },
    {
      "cell_type": "code",
      "source": "# cek mannwhitneyu\ntwo_independent_test(good,bad)",
      "metadata": {
        "scrolled": true
      },
      "outputs": [
        {
          "name": "stdout",
          "output_type": "stream",
          "text": [
            "P-Value: 3.4547468378060904e-15\n",
            "Alpha  : 0.05\n",
            "H1 Diterima: Rata-rata dari kedua data berbeda\n"
          ]
        }
      ],
      "execution_count": 29
    },
    {
      "cell_type": "markdown",
      "source": "* Berdasarkan uji mannwhitneyu diatas, Data good dan bad memiliki P-Value 3.45 dan hal tersebut lebih besar dari Alpha yang bernilai 0.05, sehingga rata-rata dari kedua data tersebut berbeda",
      "metadata": {}
    },
    {
      "cell_type": "code",
      "source": "# Setelah diketahui terdapat perbedaan durasi yang signifikan, kita lihat seberapa jauh perbedaannya\nprint(f'Average Duration Good: {int(good.mean())} seconds')\nprint(f'Median Duration Good : {int(good.median())} seconds')\n\nprint(f'Average Duration Bad : {int(bad.mean())} seconds')\nprint(f'Median Duration Bad  : {int(bad.median())} seconds')",
      "metadata": {},
      "outputs": [
        {
          "name": "stdout",
          "output_type": "stream",
          "text": [
            "Average Duration Good: 1976 seconds\n",
            "Median Duration Good : 1800 seconds\n",
            "Average Duration Bad : 2434 seconds\n",
            "Median Duration Bad  : 2560 seconds\n"
          ]
        }
      ],
      "execution_count": 30
    },
    {
      "cell_type": "markdown",
      "source": "**Kesimpulan**\n* findings :\n    * Rata-rata durasi pada saat kondisi cuaca baik adalah selama 1976 detik\n    * Rata-rata durasi pada saat kondisi cuaca buruk adalah selama 2434 detik\n    * Median durasi pada saat kondisi cuaca baik adalah selama 1800 detik\n    * Median durasi pada saat kondisi cuaca baik adalah selama 2560 detik\n* insight :\n    * Durasi rata-rata perjalanan dari Loop ke Bandara Internasional O'Hare berubah saat hujan di hari Sabtu, perubahannya cukup siginifikan, karena Jika cuacanya sedang baik maka perjalanan akan lebih cepat, kalau cuacanya sedang buruk perjalanan akan lebih lama",
      "metadata": {}
    },
    {
      "cell_type": "markdown",
      "source": "## Kesimpulan Umum",
      "metadata": {}
    },
    {
      "cell_type": "markdown",
      "source": "* A. Data Preprocessing\n\n     Data Mentah :\n    1. Tidak terdapat missing value dan duplikasi pada ketiga dataset \n    2. Beberapa kolom memiliki tipe data int64 dan float64, untuk itu perlu dirubah menjadi int16 dan float16 agar tidak memakan memory banyak\n    3. Kolom start_ts pada dataset 3 memiliki tipe data yang salah, perlu dirubah ke tipe data datetime\n    \n    Setelah Datah dibersihkan :\n    1. Beberapa kolom memiliki tipe data int64 dan float64, telah dirubah menjadi int16 dan float16 \n    2. Kolom start_ts pada dataset 3 memiliki tipe data yang salah telah dirubah ke tipe data datetime\n    \n    \n* B. Exploratory Data Analysis (EDA)\n    \n    * Findings :\n        * Wilayah Loop adalah wilayah yang paling banyak dijadikan tempat dropoff hingga lebih dari 10 ribu perjalanan\n        * Perusahaan Flash Cab merupakan perusahaan yang paling banyak digunakan hingga lebih dari 19 ribu perjalanan\n        * Top 10 Wilayah yang sering dijadikan dropoff memiliki jumlah total perjalanan lebih dari 1000 perjalanan\n        * Top 10 Perusahaan memiliki jumlah total perjalanan lebih dari 5000 perjalanan\n    \n    * insight :\n        * Orang-orang lebih banyak percaya dan suka menggunakan layanan dari perusahaan Flash Cab\n        * Wilayah Loop dan River North merupakan wilayah yang ramai penduduk, karena sering dijadikan tempat dropoff\n    \n    \n* C. Menguji Hipotesis & Analisis Data Statistik \n\n    * Ternyata data kita semuanya adalah hari sabtu\n    * Distribusi dari durasi saat cuaca baik dan buruk sekilas persebarannya terlihat merata, akan tetapi terdapat outliers yang berlebihan pada kedua kondisi cuaca tersebut\n\n    * 4.1 Bersihkan Outliers\n        * Outliers telah di bersihkan dari dua kondisi tersebut, sehingga distribusi nya lebih rapi dan merata\n\n    * 4.2 Uji Kenormalan Data\n        * Berdasarkan uji kenormalan data diatas, Distribusi data Good dan Bad merupakan distribusi tidak normal.\n\n    * 4.3 Uji Variansi Data\n        * Berdasarkan uji variansi diatas, Data good dan bad memiliki P-Value 0.35 dan hal tersebut lebih besar dari Alpha yang bernilai 0.05, sehingga variansi pada data good dan bad memiliki variansi yang sama\n        * Kedua data tersebut memiliki variansi yang mirip, meskipun distribusi nya mirip tetapi secara statistik keduanya berbeda, karena median data di good lebih rendah daripada di bad\n\n    * 4.4 Uji Mannwhitneyu\n        * Berdasarkan uji mannwhitneyu diatas, Data good dan bad memiliki P-Value 3.45 dan hal tersebut lebih besar dari Alpha yang bernilai 0.05, sehingga rata-rata dari kedua data tersebut berbeda\n        * findings :\n            * Rata-rata durasi pada saat kondisi cuaca baik adalah selama 1976 detik\n            * Rata-rata durasi pada saat kondisi cuaca buruk adalah selama 2434 detik\n            * Median durasi pada saat kondisi cuaca baik adalah selama 1800 detik\n            * Median durasi pada saat kondisi cuaca baik adalah selama 2560 detik\n        * insight :\n            * Durasi rata-rata perjalanan dari Loop ke Bandara Internasional O'Hare berubah saat hujan di hari Sabtu, perubahannya cukup siginifikan, karena Jika cuacanya sedang baik maka perjalanan akan lebih cepat, kalau cuacanya sedang buruk perjalanan akan lebih lama",
      "metadata": {}
    },
    {
      "cell_type": "code",
      "source": "",
      "metadata": {},
      "outputs": [],
      "execution_count": null
    }
  ]
}